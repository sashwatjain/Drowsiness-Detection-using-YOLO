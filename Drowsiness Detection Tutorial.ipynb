{
 "cells": [
  {
   "cell_type": "markdown",
   "metadata": {},
   "source": [
    "# Install and Import Dependencies"
   ]
  },
  {
   "cell_type": "code",
   "execution_count": null,
   "metadata": {},
   "outputs": [],
   "source": [
    "!pip install torch==1.8.1+cu111 torchvision==0.9.1+cu111 torchaudio===0.8.1 -f https://download.pytorch.org/whl/lts/1.8/torch_lts.html"
   ]
  },
  {
   "cell_type": "code",
   "execution_count": null,
   "metadata": {},
   "outputs": [],
   "source": [
    "!git clone https://github.com/ultralytics/yolov5"
   ]
  },
  {
   "cell_type": "code",
   "execution_count": null,
   "metadata": {},
   "outputs": [],
   "source": [
    "!cd yolov5 & pip install -r requirements.txt"
   ]
  },
  {
   "cell_type": "code",
   "execution_count": null,
   "metadata": {},
   "outputs": [],
   "source": [
    "import torch\n",
    "from matplotlib import pyplot as plt\n",
    "import numpy as np\n",
    "import cv2"
   ]
  },
  {
   "cell_type": "markdown",
   "metadata": {},
   "source": [
    "# Load Model"
   ]
  },
  {
   "cell_type": "code",
   "execution_count": null,
   "metadata": {},
   "outputs": [],
   "source": [
    "model = torch.hub.load('ultralytics/yolov5', 'yolov5s')"
   ]
  },
  {
   "cell_type": "code",
   "execution_count": null,
   "metadata": {},
   "outputs": [],
   "source": [
    "model"
   ]
  },
  {
   "cell_type": "markdown",
   "metadata": {},
   "source": [
    "# Make Detections with Images"
   ]
  },
  {
   "cell_type": "code",
   "execution_count": null,
   "metadata": {},
   "outputs": [],
   "source": [
    "img = 'https://upload.wikimedia.org/wikipedia/commons/thumb/e/e4/Cars_in_traffic_in_Auckland%2C_New_Zealand_-_copyright-free_photo_released_to_public_domain.jpg/800px-Cars_in_traffic_in_Auckland%2C_New_Zealand_-_copyright-free_photo_released_to_public_domain.jpg'"
   ]
  },
  {
   "cell_type": "code",
   "execution_count": null,
   "metadata": {},
   "outputs": [],
   "source": [
    "results = model(img)\n",
    "results.print()"
   ]
  },
  {
   "cell_type": "code",
   "execution_count": null,
   "metadata": {},
   "outputs": [],
   "source": [
    "%matplotlib inline \n",
    "plt.imshow(np.squeeze(results.render()))\n",
    "plt.show()"
   ]
  },
  {
   "cell_type": "code",
   "execution_count": null,
   "metadata": {},
   "outputs": [],
   "source": [
    "results.render()"
   ]
  },
  {
   "cell_type": "markdown",
   "metadata": {},
   "source": [
    "# Real Time Detections"
   ]
  },
  {
   "cell_type": "code",
   "execution_count": null,
   "metadata": {},
   "outputs": [],
   "source": [
    "cap = cv2.VideoCapture(0)\n",
    "while cap.isOpened():\n",
    "    ret, frame = cap.read()\n",
    "    \n",
    "    # Make detections \n",
    "    results = model(frame)\n",
    "    \n",
    "    cv2.imshow('YOLO', np.squeeze(results.render()))\n",
    "    \n",
    "    if cv2.waitKey(10) & 0xFF == ord('q'):\n",
    "        break\n",
    "cap.release()\n",
    "cv2.destroyAllWindows()"
   ]
  },
  {
   "cell_type": "markdown",
   "metadata": {},
   "source": [
    "# Train from scratch"
   ]
  },
  {
   "cell_type": "code",
   "execution_count": null,
   "metadata": {},
   "outputs": [],
   "source": [
    "import uuid   # Unique identifier\n",
    "import os\n",
    "import time"
   ]
  },
  {
   "cell_type": "code",
   "execution_count": null,
   "metadata": {},
   "outputs": [],
   "source": [
    "IMAGES_PATH = os.path.join('data', 'images') #/data/images\n",
    "labels = ['awake', 'drowsy']\n",
    "number_imgs = 5"
   ]
  },
  {
   "cell_type": "code",
   "execution_count": null,
   "metadata": {},
   "outputs": [],
   "source": [
    "cap = cv2.VideoCapture(0)\n",
    "# Loop through labels\n",
    "for label in labels:\n",
    "    print('Collecting images for {}'.format(label))\n",
    "    time.sleep(5)\n",
    "    \n",
    "    # Loop through image range\n",
    "    for img_num in range(number_imgs):\n",
    "        print('Collecting images for {}, image number {}'.format(label, img_num))\n",
    "        \n",
    "        # Webcam feed\n",
    "        ret, frame = cap.read()\n",
    "        \n",
    "        # Naming out image path\n",
    "        imgname = os.path.join(IMAGES_PATH, label+'.'+str(uuid.uuid1())+'.jpg')\n",
    "        \n",
    "        # Writes out image to file \n",
    "        cv2.imwrite(imgname, frame)\n",
    "        \n",
    "        # Render to the screen\n",
    "        cv2.imshow('Image Collection', frame)\n",
    "        \n",
    "        # 2 second delay between captures\n",
    "        time.sleep(2)\n",
    "        \n",
    "        if cv2.waitKey(10) & 0xFF == ord('q'):\n",
    "            break\n",
    "cap.release()\n",
    "cv2.destroyAllWindows()"
   ]
  },
  {
   "cell_type": "code",
   "execution_count": null,
   "metadata": {},
   "outputs": [],
   "source": [
    "print(os.path.join(IMAGES_PATH, labels[0]+'.'+str(uuid.uuid1())+'.jpg'))"
   ]
  },
  {
   "cell_type": "code",
   "execution_count": null,
   "metadata": {},
   "outputs": [],
   "source": [
    "for label in labels:\n",
    "    print('Collecting images for {}'.format(label))\n",
    "    for img_num in range(number_imgs):\n",
    "        print('Collecting images for {}, image number {}'.format(label, img_num))\n",
    "        imgname = os.path.join(IMAGES_PATH, label+'.'+str(uuid.uuid1())+'.jpg')\n",
    "        print(imgname)   "
   ]
  },
  {
   "cell_type": "code",
   "execution_count": null,
   "metadata": {},
   "outputs": [],
   "source": [
    "!git clone https://github.com/tzutalin/labelImg"
   ]
  },
  {
   "cell_type": "code",
   "execution_count": null,
   "metadata": {
    "scrolled": true
   },
   "outputs": [],
   "source": [
    "!pip install pyqt5 lxml --upgrade\n",
    "!cd labelImg && pyrcc5 -o libs/resources.py resources.qrc"
   ]
  },
  {
   "cell_type": "code",
   "execution_count": null,
   "metadata": {},
   "outputs": [],
   "source": [
    "!cd yolov5 && python train.py --img 320 --batch 16 --epochs 500 --data dataset.yml --weights yolov5s.pt --workers 2"
   ]
  },
  {
   "cell_type": "markdown",
   "metadata": {},
   "source": [
    "# Load Custom Model"
   ]
  },
  {
   "cell_type": "code",
   "execution_count": null,
   "metadata": {},
   "outputs": [
    {
     "name": "stderr",
     "output_type": "stream",
     "text": [
      "Downloading: \"https://github.com/ultralytics/yolov5/archive/master.zip\" to C:\\Users\\User/.cache\\torch\\hub\\master.zip\n",
      "YOLOv5  2021-7-11 torch 1.8.1+cu111 CUDA:0 (GeForce RTX 2070 SUPER, 8192.0MB)\n",
      "\n",
      "Fusing layers... \n",
      "Model Summary: 224 layers, 7097062 parameters, 0 gradients, 16.5 GFLOPs\n",
      "Adding AutoShape... \n"
     ]
    }
   ],
   "source": [
    "model = torch.hub.load('ultralytics/yolov5', 'custom', path='yolov5/runs/train/exp15/weights/last.pt', force_reload=True)"
   ]
  },
  {
   "cell_type": "code",
   "execution_count": null,
   "metadata": {},
   "outputs": [],
   "source": [
    "img = os.path.join('data', 'images', 'awake.c9a24d48-e1f6-11eb-bbef-5cf3709bbcc6.jpg')"
   ]
  },
  {
   "cell_type": "code",
   "execution_count": null,
   "metadata": {},
   "outputs": [],
   "source": [
    "results = model(img)"
   ]
  },
  {
   "cell_type": "code",
   "execution_count": null,
   "metadata": {},
   "outputs": [
    {
     "name": "stdout",
     "output_type": "stream",
     "text": [
      "image 1/1: 480x640 1 awake\n",
      "Speed: 16.0ms pre-process, 11.0ms inference, 2.0ms NMS per image at shape (1, 3, 480, 640)\n"
     ]
    }
   ],
   "source": [
    "results.print()"
   ]
  },
  {
   "cell_type": "code",
   "execution_count": null,
   "metadata": {},
   "outputs": [
    {
     "data": {
      "image/png": "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",
      text/plain": [
       "<Figure size 432x288 with 1 Axes>"
      ]
     },
     "metadata": {
      "needs_background": "light"
     },
     "output_type": "display_data"
    }
   ],
   "source": [
    "%matplotlib inline \n",
    "plt.imshow(np.squeeze(results.render()))\n",
    "plt.show()"
   ]
  },
  {
   "cell_type": "code",
   "execution_count": null,
   "metadata": {},
   "outputs": [],
   "source": [
    "cap = cv2.VideoCapture(0)\n",
    "while cap.isOpened():\n",
    "    ret, frame = cap.read()\n",
    "    \n",
    "    # Make detections \n",
    "    results = model(frame)\n",
    "    \n",
    "    cv2.imshow('YOLO', np.squeeze(results.render()))\n",
    "    \n",
    "    if cv2.waitKey(10) & 0xFF == ord('q'):\n",
    "        break\n",
    "cap.release()\n",
    "cv2.destroyAllWindows()"
   ]
  },
  {
   "cell_type": "code",
   "execution_count": null,
   "metadata": {},
   "outputs": [],
   "source": []
  }
 ],
 "metadata": {
  "kernelspec": {
   "display_name": "yolo",
   "language": "python",
   "name": "yolo"
  },
  "language_info": {
   "codemirror_mode": {
    "name": "ipython",
    "version": 3
   },
   "file_extension": ".py",
   "mimetype": "text/x-python",
   "name": "python",
   "nbconvert_exporter": "python",
   "pygments_lexer": "ipython3",
   "version": "3.7.3"
  }
 },
 "nbformat": 4,
 "nbformat_minor": 2
}
